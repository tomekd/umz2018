{
 "cells": [
  {
   "cell_type": "markdown",
   "metadata": {},
   "source": [
    "# Ostatnie zajęcia\n",
    "\n",
    "Są to ostatnie zajęcia z uczenia maszynowego. Mają one charakter dobrowolny, bo nie będę sprawdzać czy zostało ono wykonane. Ponadto, jest to w jakimś stopniu podsumowanie wszystkich zajęć, które (jak starałem się) miały charakter bardziej praktyczny niż teoretyczny.\n",
    "\n",
    "## Co dalej?\n",
    "Ćwiczenia przedstawiły tylko pewną ideę, która stoi za uczeniem maszynowym, pewnie nie jedyną. W każdym razie, temat nie został wyczerpany do końca, dlatego umieszczam listę materiałów, z którymi warto zapoznać się:\n",
    " * [Wykład Ng'a](https://www.coursera.org/learn/machine-learning): klasyczny już kurs MOOC z uczenia maszynowego\n",
    " * [kaggle](https://kaggle.com): Serwis z zawodami z uczenia maszynowego. W większości przypadków, dane są przygotowywane przez różne instytucje i firmy i należy zbudować jak najlepszy model.\n",
    " * [Kursy online](https://datacamp.com): Oczywiście w Internecie jest dostępnych wiele materiałów na temat uczenia maszynowego, ale czasem są one różnej jakości. Ze swojej strony polecam pratformę *datacamp*, gdzie są kursy z Pythona i R. Studenci naszego wydziału mają możliwość uzyskanai darmowego 3 miesięcznego  konta premium, które udostępnia wszystkie kursy.\n",
    " * [Studia podyplomowe](https://podyplomowe.wmi.amu.edu.pl/kierunki/przetwarzanie-danych-big-data/) Studia podyplomowe z *Przetwarzanie danych – Big Data*: może nie ścisle z analizy danych, ale z otoczki: w jaki sposób wykorzystywać uczenie maszynowe w dużej skali."
   ]
  },
  {
   "cell_type": "markdown",
   "metadata": {},
   "source": [
    "# OLX\n",
    "* Tutorial \"Text Analytics\": http://scikit-learn.org/0.15/tutorial/text_analytics/working_with_text_data.html\n",
    "* Opis konkursu OLX: http://dataninja.olx.pl/#about\n",
    "* Dane OLX: http://dataninja.olx.pl/competition/data\n",
    "\n",
    "## Zadanie\n",
    "\n",
    "Korzystając z pakietu *sklearn*, zbuduj klasyfikator dla konkursu OLX.\n",
    "\n",
    "* Opisz dostępne dane tekstowe oraz cechy, które można z nich wyciągnąć, a które Twoim zdaniem mogą okazać się przydatne.\n",
    "* Wybierz i sprawdź co najmiej cztery różne rodzaje klasyfikatorów, w tym co najmniej dwa, które nie były dotąd omawiane na ćwiczeniach (np. SVM ) lub wykładach.\n",
    "* Wydziel zbiór treningowy i walidacyjny.\n",
    "* Dokonaj optymalizacji hiperparametrów za pomocą _GridSearch_ lub _RandomSearch_, opisz wnioski.\n",
    "\n",
    "Wskazówki:\n",
    "\n",
    "* Sprawdź jak jest obliczana skuteczność klasyfikacji.\n",
    "* Nie trzeba przetwarzać od razu całości danych.\n",
    "* Nie trzeba od razu (jeżeli w ogóle) wykorzystywać danych obrazkowych.\n",
    "* Stwórz _baseline model_, np. taki, który będzie zawsze przepowiadał korzeń drzewa kategorii.\n",
    "* Rozpocznij od modelu bazującego na najprostszych do uzyskania cechach.\n",
    "* Nie ma konieczności wrzucania rozwiązania na platformę OLX.\n"
   ]
  },
  {
   "cell_type": "code",
   "execution_count": null,
   "metadata": {},
   "outputs": [],
   "source": []
  }
 ],
 "metadata": {
  "hide_input": false,
  "kernelspec": {
   "display_name": "Python 3",
   "language": "python",
   "name": "python3"
  },
  "language_info": {
   "codemirror_mode": {
    "name": "ipython",
    "version": 3
   },
   "file_extension": ".py",
   "mimetype": "text/x-python",
   "name": "python",
   "nbconvert_exporter": "python",
   "pygments_lexer": "ipython3",
   "version": "3.6.5"
  }
 },
 "nbformat": 4,
 "nbformat_minor": 1
}
